{
  "nbformat": 4,
  "nbformat_minor": 0,
  "metadata": {
    "colab": {
      "provenance": [],
      "authorship_tag": "ABX9TyMaTv9wY1Ash5cTNEI/HlKl",
      "include_colab_link": true
    },
    "kernelspec": {
      "name": "python3",
      "display_name": "Python 3"
    },
    "language_info": {
      "name": "python"
    }
  },
  "cells": [
    {
      "cell_type": "markdown",
      "metadata": {
        "id": "view-in-github",
        "colab_type": "text"
      },
      "source": [
        "<a href=\"https://colab.research.google.com/github/hongin13/Data-structure-with-Python/blob/main/part_1.ipynb\" target=\"_parent\"><img src=\"https://colab.research.google.com/assets/colab-badge.svg\" alt=\"Open In Colab\"/></a>"
      ]
    },
    {
      "cell_type": "markdown",
      "source": [
        "## 1.1 자료구조와 추상 데이터 타입"
      ],
      "metadata": {
        "id": "x3f87DPAhDd5"
      }
    },
    {
      "cell_type": "markdown",
      "source": [
        "**자료구조(Data structure)**\n",
        " - 일련의 동일한 타입의 데이터를 정돈하여 저장한 구성체\n",
        "\n",
        "**추상 데이터 타입(Abstract Data Type, ADT)**\n",
        " - 데이터와 그 데이터에 대한 추상적인 연산들로써 구성, 연산을 구체적으로 어떻게 구현하여야 한다는 세부 명세를 포함하지 않음\n",
        "\n",
        "\n",
        "            ADT                                    Data structure\n",
        "    [데이터] + [관련 연산]     --[구현]-->     [데이터] + [구체화된 관련 연산]\n",
        "\n",
        " - 건축을 예로 들면, ADT는 건축설계 도면, 자료구조는 도면을 사용하여 건축한 건물에 해당\n",
        "\n",
        " - 자주 사용되는 자료구조에는 리스트, 연결 리스트, 스택, 큐, 트리, 해시 테이블, 그래프 등이 있음\n",
        "\n",
        " - 데이터와 관련된 연산의 관계를 개념적으로 정립하는 ADT에 기반하여 효율적인 자료구조를 만들어야 효율적인 알고리즘의 설계가 가능\n",
        "\n",
        " - 대부분의 자료구조들은 탐색, 삽입, 삭제 연산을 기본적인 연산으로 지원하며, 자료구조에 따라 추가적인 보조 연산들이 제공됨"
      ],
      "metadata": {
        "id": "uLCf-rvKhR-y"
      }
    },
    {
      "cell_type": "markdown",
      "source": [
        "## 1.2 수행 시간의 분석"
      ],
      "metadata": {
        "id": "Q1gp2NCMkJm6"
      }
    },
    {
      "cell_type": "markdown",
      "source": [
        "**시간 복잡도(Time Complexity)**\n",
        " - 알고리즘의 수행 시간\n",
        "\n",
        "**공간 복잡도(Space Complexity)**\n",
        " - 알고리즘이 수행되는 동안 사용되는 메모리 공간의 크기\n",
        " - 대부분의 경우 시간 복잡도를 사용하여 알고리즘의 성능을 분석\n",
        "\n",
        "<br>\n",
        "_프로그래머의 숙련도_, _알고리즘에 사용된 언어_, _하드웨어 성능_ 등의 이유로 인해 실제 측정된 시간으로 알고리즘의 성능을 객관적으로 판단하는 데에는 어려움이 있음\n",
        "<br>-> 알고리즘의 시간 복잡도는 알고리즘이 실행되는 동안에 사용된 기본적인 연산 횟수를 입력 크기의 함수로 나타냄\n",
        "\n",
        "**기본 연산(Elementary Operation)**\n",
        " - 데이터간 크기 비교, 데이터 읽기 및 갱신, 숫자 계산 등의 단순한 연산\n",
        "\n",
        "**알고리즘의 수행 시간(Run Time)**\n",
        " - 최악 경우 분석(Worst-case Analysis) : 상한(Upper Bound) -> 수행 시간이 얼마 이상은 넘지 않음\n",
        " - 평균 경우 분석(Average-case Analysis) : 균등 분포(Uniform Distribution) -> 입력의 확률 분포를 가정하여 분석\n",
        " - 최선 경우 분석(Best-case Analysis) : 최적(Optimal) -> 가장 빠른 수행 시간 분석\n"
      ],
      "metadata": {
        "id": "G_jwLLXVkMpI"
      }
    },
    {
      "cell_type": "markdown",
      "source": [
        "## 1.3 수행 시간의 점근 표기법"
      ],
      "metadata": {
        "id": "iON1TGy68iVX"
      }
    },
    {
      "cell_type": "markdown",
      "source": [
        "**수행 시간(Run Time)**\n",
        " - 알고리즘이 수행하는 기본 연산 횟수를 입력 크기에 대한 함수로 표현\n",
        " - 주로 여러 개의 항을 가지는 다항식으로 표현 -> 입력의 크기에 대한 함수로 표현하기 위해 점근 표기법(Asymptotic Notation) 사용\n",
        "\n",
        "**대표적인 점근 표기법**\n",
        " - O(Big-Oh)-표기 : 모든 n ≥ n0에 대해서 f(n) ≤ cg(n)이 성립하는 양의 상수 c와 n0이 존재하면, f(n) = O(g(n))\n",
        " - Ω(Big-Omega)-표기 : 모든 n ≥ n0에 대해서 f(n) ≥ cg(n)이 성립하는 양의 상수 c와 n0이 존재하면, f(n) = Ω(g(n))\n",
        " - Θ(Theta)-표기 : 모든 n ≥ n0에 대해서 c1g(n) ≥ f(n) ≥ c2g(n)이 성립하는 양의 상수 c1, c2, n0이 존재하면, f(n) = Θ(g(n))\n",
        "\n",
        "**O-표기**\n",
        "\n",
        " - n0와 같거나 큰 모든 n에 대해서 f(n)이 cg(n)보다 크지 않음 -> g(n) : f(n)의 상한(Upper Bound)\n",
        "\n",
        " - 정의를 만족하는 가장 차수가 낮은 함수를 선택하는 것이 원칙 -> 과장된 표현을 피하기 위함\n",
        " - 주어진 수행 시간의 다항식에 대해 O-표기를 찾기 위해 직접 양의 상수 c와 n0을 계산해서 g(n)을 찾는 것보다 다항식에서 최고 차수 항만을 취한 뒤, 그 항의 계수를 제거하여 g(n)을 정할 수 있음\n",
        "  - ex) 2n² + 3n + 5에서 최고 차수 항은 2n²이고, 계수인 2를 제거한 n²가 g(n)이므로 수행 시간은 O(n²)\n",
        "\n",
        "**Ω-표기**\n",
        "\n",
        " - n0보다 큰 모든 n에 대해서 f(n)이 cg(n)보다 작지 않음 -> g(n) : f(n)의 하한(Under Bound)\n",
        " - 주어진 수행 시간의 다항식에 대해 Ω-표기를 찾는 방법은 O-표기를 찾을 때와 같이 다항식에서 최고 차항만을 취하고 그 항의 계수를 제거하여 g(n)을 찾음\n",
        "  - ex) 2n² + 3n + 5에서 최고 차항은 2n²이고, 계수인 2를 제거한 n²가 g(n)이므로 수행 시간은 Ω(n²)\n",
        "\n",
        "**Θ-표기**\n",
        "\n",
        " - 수행 시간의 O-표기와 Ω-표기가 동일한 경우에 사용\n",
        " - 2n² + 3n + 5 -> O(n²), Ω(n²)이므로 Θ(n²)\n",
        " - Θ(n²)은 n²과 2n² + 3n + 5가 유사한 증가율을 가지고 있다는 뜻\n",
        "\n",
        "*알고리즘의 수행 시간은 주로 O-표기를 사용하며, 보다 정확히 표현하기 위해 Θ-표기를 사용하는 경우도 있음*\n",
        "\n",
        "\n",
        "**<컴퓨터 분야에서 수행 시간을 위해 자주 사용되는 함수의 O-표기와 이름>**\n",
        "\n",
        " - O(1) - 상수 시간(Constant Time)\n",
        " - O(logn) - 로그(대수) 시간(Logarithmic Time)\n",
        " - O(n) - 선형 시간(Linear Time)\n",
        " - O(nlogn) - 로그 선형 시간(Log-linear Time)\n",
        " - O(n²) - 이차 시간(Quadratic Time)\n",
        " - O(n³) - 3차 시간(Cubic Time)\n",
        " - O(2ⁿ) - 지수 시간(Exponential Time)\n"
      ],
      "metadata": {
        "id": "GEtIyUOg8ljz"
      }
    },
    {
      "cell_type": "markdown",
      "source": [
        "## 1.4 파이썬 언어에 대한 기본 지식"
      ],
      "metadata": {
        "id": "eCwwp9Q3IXks"
      }
    },
    {
      "cell_type": "markdown",
      "source": [
        "**파이썬(Python) : 객체지향 프로그래밍 언어**<br>\n",
        " - 클래스(Class) : 선언되어 객체에 데이터를 저장\n",
        " - 메소드(Method) : 선언되어 객체들에 대한 연산을 구현\n",
        "\n",
        "**클래스의 구조**\n",
        " - 인스턴스 변수(Instance Variable) : 객체에 정보를 저장\n",
        " - 객체 생성자(Constructor) : 객체를 생성\n",
        " - 메소드(Method) : 객체 혹은 객체 내부 인스턴스 변수에 대한 연산을 수행"
      ],
      "metadata": {
        "id": "ByExjw8rIbEU"
      }
    },
    {
      "cell_type": "code",
      "source": [
        "class Student:\n",
        "    def __init__(self, name, id):\n",
        "        self.name = name\n",
        "        self.id = id\n",
        "    def get_name(self):\n",
        "        return self.name\n",
        "    def get_id(self):\n",
        "        return self.id\n",
        "\n",
        "best = Student('Lee', 101)\n",
        "print(best.get_name())\n",
        "print(best.get_id())"
      ],
      "metadata": {
        "colab": {
          "base_uri": "https://localhost:8080/"
        },
        "id": "LmBVNBWHq_x5",
        "outputId": "06bd80dc-aa75-4e60-d6dd-a55b695eeeb7"
      },
      "execution_count": null,
      "outputs": [
        {
          "output_type": "stream",
          "name": "stdout",
          "text": [
            "Lee\n",
            "101\n"
          ]
        }
      ]
    },
    {
      "cell_type": "markdown",
      "source": [
        "메소드의 첫 번째 인자로 'self' 사용, 인스턴스 변수 앞에 'self' 사용\n",
        "<br>-> 클래스의 생성자로 만들어진 객체의 이름을 self가 있는 자리에 대체시키기 위함\n",
        "\n",
        "best.get_name() 은 def get_name(best)를 수행하여 'Lee'를 출력, best.get_id()는 def get_id(best)를 수행하여 101을 출력"
      ],
      "metadata": {
        "id": "TzazXsVJKyM4"
      }
    },
    {
      "cell_type": "markdown",
      "source": [
        "**리스트(List)**\n",
        " - C, JAVA의 배열과 유사함. 배열과는 다르게 다른 타입의 항목을 저장할 수 있음"
      ],
      "metadata": {
        "id": "kvE94V_BMhSf"
      }
    },
    {
      "cell_type": "code",
      "source": [
        "a = []\n",
        "b = [None] * 10\n",
        "c = [40, 10, 70, 60]\n",
        "print(c[0])\n",
        "print(c[-1])\n",
        "c.pop()\n",
        "c.pop(0)\n",
        "c.append(90)\n",
        "print(len(c))"
      ],
      "metadata": {
        "colab": {
          "base_uri": "https://localhost:8080/"
        },
        "id": "8rtZaHeWweYv",
        "outputId": "3e32a56e-32ca-45e1-d09e-c356c772bcf0"
      },
      "execution_count": null,
      "outputs": [
        {
          "output_type": "stream",
          "name": "stdout",
          "text": [
            "40\n",
            "60\n",
            "3\n"
          ]
        }
      ]
    },
    {
      "cell_type": "markdown",
      "source": [
        "파이썬의 리스트는 동적 배열(Dynamic Array)로 구현되어 있음.\n",
        " -  파이썬이 알아서 리스트의 크기를 조절\n",
        "  - (리스트에 새 항목들이 추가되면 리스트의 크기 확장, 리스트의 항목 수가 줄어들면 리스트 크기 축소)\n",
        "<br>\n",
        "<br>\n",
        "\n",
        "리스트 c = [40, 10, 70, 60]\n",
        "<br> c[0]에는 40이라는 값이 저장되는 것이 아닌 40이라는 객체의 레퍼런스가 저장됨\n",
        "<br> c[1] = 40 을 수행하면 c[1] 또한 40이라는 객체의 레퍼런스가 저장됨"
      ],
      "metadata": {
        "id": "s7snNjMZesSA"
      }
    },
    {
      "cell_type": "markdown",
      "source": [
        "**if-문**\n",
        " - 조건문으로서 하나 또는 여러가지 조건을 검사하도록 선언할 수 있음.\n",
        " - 조건식이 True이면 해당 명령문을 수행하고, False이면 else의 명령문을 수행\n",
        " - 여러 조건으로 세분화시키는 경우에는 if - elif - ㆍㆍㆍ - else 문을 사용\n",
        "\n",
        "        if 조건식:\n",
        "            명령문\n",
        "        elif 조건식:\n",
        "            명령문\n",
        "        ㆍㆍㆍ\n",
        "        else:\n",
        "            명령문"
      ],
      "metadata": {
        "id": "EnE_dS8VgfoK"
      }
    },
    {
      "cell_type": "markdown",
      "source": [
        "**반복문**\n",
        " - for-문 : 리스트, 튜플, 스트링 등의 순서형 자료의 항목들을 차례로 읽거나 내장 함수인 range() 함수를 사용하여 명령문을 처리\n",
        " - while-문 : 조건식이 만족되는 동안 반복수행\n",
        "\n",
        "        for 조건식 in 리스트:\n",
        "            명령문\n",
        "\n",
        "        for 변수 in range(N):\n",
        "            명령문\n",
        "\n",
        "        while 조건식:\n",
        "            명령문"
      ],
      "metadata": {
        "id": "fiOQgX1mjxFo"
      }
    },
    {
      "cell_type": "markdown",
      "source": [
        "**range()**\n",
        " - range(N)\n",
        " - range(시작, N)\n",
        " - range(시작, N, 증감)\n",
        "  - range(10)           # 0, 1, 2, ..., 9 반환\n",
        "  - range(1,11)         # 1, 2, 3, ..., 10 반환\n",
        "  - range(10,20,2)      # 10, 12, 14, 16, 18 반환\n",
        "  - range(10,1,-1)      # 10, 9, 8, ..., 2 반환\n",
        "  - range(len(리스트))  # 0부터 (리스트의 크기 - 1)까지 반환"
      ],
      "metadata": {
        "id": "t2LgCTIfkkek"
      }
    },
    {
      "cell_type": "markdown",
      "source": [
        "**의사 난수(Pseudo-random Number)**\n",
        "\n",
        "리스트 생성, 프로그램의 실행 시간 측정\n",
        "\n"
      ],
      "metadata": {
        "id": "OUiXC61QqSIe"
      }
    },
    {
      "cell_type": "code",
      "source": [
        "import random\n",
        "import time\n",
        "\n",
        "random.seed(time.time())\n",
        "a = []\n",
        "for i in range(100):\n",
        "    a.append(random.randint(1,1000))\n",
        "print(a)\n",
        "\n",
        "start_time = time.time()\n",
        "\n",
        "print(\"--- %s seconds ---\" % (time.time() - start_time))"
      ],
      "metadata": {
        "colab": {
          "base_uri": "https://localhost:8080/"
        },
        "id": "mvQUvBKvxgAe",
        "outputId": "132e67aa-e1d3-4a20-e138-0a85286af9fc"
      },
      "execution_count": null,
      "outputs": [
        {
          "output_type": "stream",
          "name": "stdout",
          "text": [
            "[272, 806, 4, 715, 52, 108, 502, 236, 648, 103, 553, 183, 529, 736, 676, 796, 224, 472, 398, 224, 92, 464, 459, 138, 16, 114, 578, 614, 185, 926, 828, 322, 442, 304, 246, 363, 398, 250, 72, 947, 975, 641, 387, 577, 194, 163, 908, 2, 217, 788, 710, 67, 416, 512, 81, 379, 707, 188, 511, 814, 835, 786, 162, 42, 912, 513, 956, 496, 276, 378, 365, 942, 633, 397, 957, 679, 392, 849, 564, 440, 899, 799, 421, 432, 225, 449, 396, 210, 637, 332, 753, 863, 912, 542, 667, 705, 519, 65, 533, 395]\n",
            "--- 8.559226989746094e-05 seconds ---\n"
          ]
        }
      ]
    },
    {
      "cell_type": "markdown",
      "source": [
        "**내장 함수**\n",
        " - ord('문자') : 문자의 Unicode 값을 반환. ex) ord('A')는 65를 반환\n",
        " - list(reversed(리스트)) : 역순으로 된 리스트 반환\n",
        " - 리스트.reverse() : 리스트를 역순으로 재배치\n",
        "\n"
      ],
      "metadata": {
        "id": "Edv2LPdbqppZ"
      }
    },
    {
      "cell_type": "markdown",
      "source": [
        "**lambda 함수**\n",
        " - 함수의 이름도 return도 없이 수행되는 함수\n",
        "        lambda 인자(arguments) : 식(expression)\n",
        " - filter(), map() 함수의 인자로 많이 사용됨.\n",
        "  - filter(expression, sequence)\n",
        "  - map(expression, sequence)\n",
        " - 일반적으로 간단한 함수를 대신할 수 있어 매우 유용함."
      ],
      "metadata": {
        "id": "1i6Vr0HZrNTA"
      }
    },
    {
      "cell_type": "code",
      "source": [
        "a = [1, 5, 4, 6, 8, 11, 3, 12]\n",
        "even = list(filter(lambda x:(x%2 == 0), a))\n",
        "print(even)\n",
        "ten_times = list(map(lambda x:x*10, a))\n",
        "print(ten_times)\n",
        "\n",
        "b = [[0, 1, 8],[7, 2, 2],[5, 3, 10],[1, 4, 5]]\n",
        "b.sort(key = lambda x:x[2])\n",
        "print(b)"
      ],
      "metadata": {
        "colab": {
          "base_uri": "https://localhost:8080/"
        },
        "id": "55Jh_NGdx1nx",
        "outputId": "1b5b359f-490c-4fc3-9c83-5a37f9a851bb"
      },
      "execution_count": null,
      "outputs": [
        {
          "output_type": "stream",
          "name": "stdout",
          "text": [
            "[4, 6, 8, 12]\n",
            "[10, 50, 40, 60, 80, 110, 30, 120]\n",
            "[[7, 2, 2], [1, 4, 5], [0, 1, 8], [5, 3, 10]]\n"
          ]
        }
      ]
    },
    {
      "cell_type": "markdown",
      "source": [
        "## 1.5 순환"
      ],
      "metadata": {
        "id": "m1qeFnosrxh7"
      }
    },
    {
      "cell_type": "markdown",
      "source": [
        "**순환(Recursion)**\n",
        " - 함수가 스스로를 호출하는 것\n",
        " - 팩토리얼, 조합을 계산하기 위한 식의 표현, 무한한 길이의 숫자 스트림 만들기, 분기하여 자라나는 트리 자료구조를 만드는 데 사용됨\n",
        " - 프랙털(Fractal) 등의 기본 개념으로 사용됨\n",
        "\n",
        "        def recurse():\n",
        "            print(' *')\n",
        "            recurse()\n",
        "\n",
        "        recurse()\n",
        "\n",
        "    함수(메소드)가 자기 자신을 호출하도록 프로그래밍 할 때는 무한 호출을 방지해야 함\n",
        "    <br> 순환 호출을 중단시킬 수 있는 조건문이 없는 경우 RecursionError 발생\n"
      ],
      "metadata": {
        "id": "UJ1skDK4r3YG"
      }
    },
    {
      "cell_type": "code",
      "source": [
        "def recurse(count):\n",
        "    if count <= 0:\n",
        "        print('.')\n",
        "    else:\n",
        "        print(count, ' *')\n",
        "        recurse(count-1)\n",
        "\n",
        "recurse(5)"
      ],
      "metadata": {
        "colab": {
          "base_uri": "https://localhost:8080/"
        },
        "id": "lFwkTjTMyodO",
        "outputId": "785db87a-6ffe-4ebd-bc78-f112ddba13f3"
      },
      "execution_count": null,
      "outputs": [
        {
          "output_type": "stream",
          "name": "stdout",
          "text": [
            "5  *\n",
            "4  *\n",
            "3  *\n",
            "2  *\n",
            "1  *\n",
            ".\n"
          ]
        }
      ]
    },
    {
      "cell_type": "markdown",
      "source": [
        "**함수의 동작 방식**\n",
        "<br>1. 순환 호출을 중단시키는 조건을 만들기 위해 count 매개 변수를 함수에 전달\n",
        "<br>2. 함수를 호출할 때마다 count를 1 감소시키고, if-문을 통해 count가 0 이하가 되지 않았는지 검사하는 조건문 삽입\n",
        "<br>3. if-문이 True가 되어 조건문이 성립하면 더 이상 함수를 호출하지 않도록 제어"
      ],
      "metadata": {
        "id": "DMkfh9mfddif"
      }
    },
    {
      "cell_type": "markdown",
      "source": [
        "**순환 함수의 구성**\n",
        " - 기본(Base) case\n",
        "  - 스스로를 더 이상 호출하지 않는 부분\n",
        "\n",
        " - 순환 case\n",
        "  - 스스로를 호출하는 부분\n",
        "\n",
        "무한 호출을 방지하기 위해 선언한 변수 또는 수식의 값이 호출이 일어날 때마다 순환case에서 감소되어 최종적으로 if-문의 조건식에서 기본 case를 실행하도록 제어해야 함"
      ],
      "metadata": {
        "id": "Ea-DfRKJeicU"
      }
    },
    {
      "cell_type": "markdown",
      "source": [
        "**Factorial**\n",
        "1. 순환 함수를 사용하는 경우"
      ],
      "metadata": {
        "id": "f9hpPb-yaktd"
      }
    },
    {
      "cell_type": "code",
      "source": [
        "def factorial(n):\n",
        "    if n <= 1:\n",
        "        return 1\n",
        "    else:\n",
        "        return n*factorial(n-1)\n",
        "\n",
        "factorial(4)"
      ],
      "metadata": {
        "colab": {
          "base_uri": "https://localhost:8080/"
        },
        "id": "Y0PBG8RmzK5i",
        "outputId": "e82bb0cd-2d90-4a2c-8769-ea82aa286e6a"
      },
      "execution_count": null,
      "outputs": [
        {
          "output_type": "execute_result",
          "data": {
            "text/plain": [
              "24"
            ]
          },
          "metadata": {},
          "execution_count": 16
        }
      ]
    },
    {
      "cell_type": "markdown",
      "source": [
        "2. 순환 함수를 사용하지 않는 경우\n",
        " - 반복문을 이용한 계산은 함수 호출로 인해 시스템 스택을 사용하지 않으므로 순환을 이용한 계산보다 간단하고 메모리 사용이 적음"
      ],
      "metadata": {
        "id": "0_8oWY3japm8"
      }
    },
    {
      "cell_type": "code",
      "source": [
        "factorial = 1\n",
        "for i in range(1,5):\n",
        "    factorial *= i\n",
        "\n",
        "print(factorial)"
      ],
      "metadata": {
        "colab": {
          "base_uri": "https://localhost:8080/"
        },
        "id": "a1KOWgvWz1Tu",
        "outputId": "d2288607-48f1-4dd7-a2f5-7e1714eedfdd"
      },
      "execution_count": null,
      "outputs": [
        {
          "output_type": "stream",
          "name": "stdout",
          "text": [
            "24\n"
          ]
        }
      ]
    },
    {
      "cell_type": "markdown",
      "source": [
        "**꼬리 순환(Tail Recursion)**\n",
        " - 함수의 마지막 부분에서 순환하되 호출 후 되돌아왔을 때 수행할 연산이 없는 경우\n",
        " - 최적화되면 반복문으로 변환되어 수행되므로 메모리 사용 측면에서 효율적"
      ],
      "metadata": {
        "id": "V3aKf7A7a_Eb"
      }
    },
    {
      "cell_type": "markdown",
      "source": [
        "**꼬리 순환 예제**\n",
        "\n",
        "A-course : 도착한 섬을 먼저 관광하고 그 다음에 왼쪽 섬으로 관광, 왼쪽 섬을 다 방문한 후에 오른쪽 섬 관광<br>\n",
        "B-course : 섬에 도착하면 먼저 왼쪽 섬으로 관광 진행 후 돌아와서 처음 섬을 관광, 그 후에 오른쪽 섬 관광<br>\n",
        "C-course : 섬에 도착하면 왼쪽 섬으로 관광을 진행 후 오른쪽 섬으로 관광 진행, 오른쪽 방향의 모든 섬 관광 후 처음 섬 관광"
      ],
      "metadata": {
        "id": "XoXQZcAubg8j"
      }
    },
    {
      "cell_type": "code",
      "source": [
        "class Node:\n",
        "    def __init__(self, name, left=None, right=None):\n",
        "        self.name = name\n",
        "        self.left = left\n",
        "        self.right = right\n",
        "\n",
        "def map():  # 지도 만들기\n",
        "    # 11개의 섬 만들기\n",
        "    n1 = Node('H')\n",
        "    n2 = Node('F')\n",
        "    n3 = Node('S')\n",
        "    n4 = Node('U')\n",
        "    n5 = Node('E')\n",
        "    n6 = Node('Z')\n",
        "    n7 = Node('K')\n",
        "    n8 = Node('N')\n",
        "    n9 = Node('A')\n",
        "    n10 = Node('Y')\n",
        "    n11 = Node('T')\n",
        "\n",
        "    # 11개의 섬 교량을 잇기\n",
        "    n1.left = n2\n",
        "    n1.right = n3\n",
        "    n2.left = n4\n",
        "    n2.right = n5\n",
        "    n3.left = n6\n",
        "    n3.right = n7\n",
        "    n4.left = n8\n",
        "    n5.left = n9\n",
        "    n7.right = n10\n",
        "    n10.right = n11\n",
        "    return n1   # 시작섬 반환\n",
        "\n",
        "def A_course(n):\n",
        "    if n != None:\n",
        "        print(n.name, '->', end=' ')\n",
        "        A_course(n.left)\n",
        "        A_course(n.right)\n",
        "\n",
        "def B_course(n):\n",
        "    if n != None:\n",
        "        B_course(n.left)\n",
        "        print(n.name, '->', end=' ')\n",
        "        B_course(n.right)\n",
        "\n",
        "def C_course(n):\n",
        "    if n != None:\n",
        "        C_course(n.left)\n",
        "        C_course(n.right)\n",
        "        print(n.name, '->', end=' ')\n",
        "\n",
        "start = map()\n",
        "print('A-코스:\\t', end='')\n",
        "A_course(start)\n",
        "print('\\nB-코스:\\t', end='')\n",
        "B_course(start)\n",
        "print('\\nC-코스:\\t', end='')\n",
        "C_course(start)"
      ],
      "metadata": {
        "colab": {
          "base_uri": "https://localhost:8080/"
        },
        "id": "Dv203d3t0Kd_",
        "outputId": "58006f3d-eb72-4707-c8d0-0af50f150755"
      },
      "execution_count": null,
      "outputs": [
        {
          "output_type": "stream",
          "name": "stdout",
          "text": [
            "A-코스:\tH -> F -> U -> N -> E -> A -> S -> Z -> K -> Y -> T -> \n",
            "B-코스:\tN -> U -> F -> A -> E -> H -> Z -> S -> K -> Y -> T -> \n",
            "C-코스:\tN -> U -> A -> E -> F -> Z -> T -> Y -> K -> S -> H -> "
          ]
        }
      ]
    },
    {
      "cell_type": "markdown",
      "source": [
        "순환은 프로그램(알고리즘)의 가독성을 높일 수 있지만 시스템 스택을 사용하기 때문에 메모리 사용 측면에서 비효율적임<br>\n",
        "반복문으로 변환하기 어려운 순환도 존재<br>\n",
        "억지로 반복문으로 변환하는 경우 프로그래머가 시스템 스택의 수행을 처리해야 하므로 프로그램이 매우 복잡해짐<br>\n",
        "반복문으로 변환된 프로그램의 수행 속도가 순환으로 구현된 프로그램보다 항상 빠르다는 보장이 없음."
      ],
      "metadata": {
        "id": "A7fXvnnxdPUI"
      }
    },
    {
      "cell_type": "markdown",
      "source": [
        "## Summary"
      ],
      "metadata": {
        "id": "Y7pH95ghd0ky"
      }
    },
    {
      "cell_type": "markdown",
      "source": [
        " - 자료구조 : 일련의 동일한 타입의 데이터를 정돈하여 저장한 구성체\n",
        " - 추상 데이터 타입은 데이터와 그 데이터에 관련된 추상적인 연산들로서 구성됨<br>\n",
        " 추상적이란 연산을 구체적으로 어떻게 구현하여야 한다는 상세를 포함하지 않았다는 뜻<br>\n",
        " 자료구조는 추상 데이터 타입을 구체적으로 구현한 것\n",
        " - 수행 시간은 알고리즘이 수행하는 기본적인 연산 횟수를 입력 크기에 대한 함수로 표현\n",
        " - 알고리즘의 수행 시간 분석 방법 : 최악 경우, 평균 경우, 최선 경우 분석\n",
        " - 점근 표기법 : 입력 크기가 증가함에 따른 수행 시간의 간단한 표기법\n",
        "  - O(Big-Oh)-표기 : 점근적 상한\n",
        "  - Ω(Big-Omega)-표기 : 점근적 하한\n",
        "  - Θ(Theta)-표기 : 동일한 증가율\n",
        " - 파이썬 언어는 객체 지향 프로그래밍 언어<br>\n",
        " 클래스를 선언하여 데이터를 객체에 저장하고 메소드를 선언하여 객체들에 대한 연산을 구현\n",
        " - 순환(Recursion)은 함수/메소드가 스스로를 호출하는 것\n",
        " - 순환으로 구현된 함수는 두 부분으로 구성됨\n",
        "  - 기본(Base) case : 스스로를 더 이상 호출하지 않는 부분\n",
        "  - 순환 case : 스스로를 호출하는 부분\n",
        " - 무한 호출을 방지하기 위해 선언한 변수 또는 수식의 값이 호출이 일어날 때마다 순환 case에서 감소되어 최종적으로 if-문의 조건식에서 기본 case를 실행하도록 제어해야 함\n",
        " - 꼬리 순환(Tail Recursion) : 함수의 마지막 부분에서 순환하는 것<br>\n",
        " 호출이 끝난 뒤 메소드에서 수행할 것이 남아있지 않는 경우의 순환 호출을 뜻함<br>\n",
        " 최적화되면 반복문으로 변환되어 수행되므로 메모리 사용 측면에서 효율적\n",
        " - 일반적으로 순환은 프로그램(알고리즘)의 가독성을 높일 수 있지만, 시스템 스택을 사용하기 때문에 메모리 사용 측면에서는 비효율적\n",
        " - 순환으로 표현된 프로그램을 억지로 반복문으로 변환하는 경우 프로그래머가 시스템 스택의 수행을 처리해야 하므로 프로그램이 매우 복잡해지고, 반복문으로 변환된 프로그램의 수행 속도가 순환으로 구현된 프로그램보다 항상 빠르다는 보장이 없음"
      ],
      "metadata": {
        "id": "_KMKu8MEd4Sh"
      }
    },
    {
      "cell_type": "markdown",
      "source": [
        "## Part1.practice"
      ],
      "metadata": {
        "id": "khIParDh4F2Y"
      }
    },
    {
      "cell_type": "markdown",
      "source": [
        "1.1) a) 자료구조 b) 시간, 공간 c) 기본 연산, 함수\n",
        "\n",
        "1.2) 2, 서로 다른 타입의 객체를 효율적으로 저장한다 -> 동일한 타입의 객체를 효율적으로 저장한다\n",
        "\n",
        "1.3) 4, 정렬은 자료구조가 아니다\n",
        "\n",
        "1.4) 1, 추상 데이터 타입은 구현된 것이 아니기 때문에 import할 수 없다\n",
        "\n",
        "1.5) 4, 알고리즘의 수행 시간 분석은 최악 경우, 평균 경우, 최선 경우 분석이다\n",
        "\n",
        "1.6) 1, 기본 연산은 데이터간 크기 비교, 데이터 읽기 및 갱신, 숫자 계산 등의 단순한 연산 등을 의미한다\n",
        "\n",
        "1.7) 4, 상각 분석은 수행 시간 분석이 아니다\n",
        "\n",
        "1.8) 1, 상수 시간은 입력의 크기 n과 상관없이 일정하다\n",
        "\n",
        "1.9) 2, 선형 시간은 O(n)으로 입력 크기 n이 증가함에 따라 비례하여 증가한다\n",
        "\n",
        "1.10) 4, 지수 시간은 입력 크기 n이 증가함에 따라 가장 폭발적으로 증가한다\n",
        "\n",
        "1.11) 3, O-표기는 상한, Ω-표기는 하한, Θ는 O-표기와 Ω-표기가 일치할 때 사용하는 표기이다\n",
        "\n",
        "1.12) 1, f(n) = O(g(n)) 에서 g(n)은 f(n)의 최고 차수 항의 계수를 제외한 부분이다\n",
        "\n",
        "1.13) 2, f(n) = Ω(g(n)) 에서 g(n)은 f(n)의 최저 차수 항의 계수를 제외한 부분이다\n",
        "\n",
        "1.14) 4, n에 따른 증가율이 가장 높은 함수는 지수함수이며, 가장 큰 지수를 갖는 5ⁿ의 증가율이 가장 높다\n",
        "\n",
        "1.15) 3, O(f(n)) = O(n²), O(g(n)) = O(nlogn) 이므로 f(n) ≠ O(g(n)), g(n) ≠ O(f(n))"
      ],
      "metadata": {
        "id": "nOU3eaAtgsH8"
      }
    },
    {
      "cell_type": "code",
      "source": [],
      "metadata": {
        "id": "i_UJyb-E2tHZ"
      },
      "execution_count": null,
      "outputs": []
    }
  ]
}