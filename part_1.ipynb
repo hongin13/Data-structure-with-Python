{
  "nbformat": 4,
  "nbformat_minor": 0,
  "metadata": {
    "colab": {
      "provenance": [],
      "authorship_tag": "ABX9TyO7SevfBA6DCc/NhYLn0ywG",
      "include_colab_link": true
    },
    "kernelspec": {
      "name": "python3",
      "display_name": "Python 3"
    },
    "language_info": {
      "name": "python"
    }
  },
  "cells": [
    {
      "cell_type": "markdown",
      "metadata": {
        "id": "view-in-github",
        "colab_type": "text"
      },
      "source": [
        "<a href=\"https://colab.research.google.com/github/hongin13/Data-structure-with-Python/blob/main/part_1.ipynb\" target=\"_parent\"><img src=\"https://colab.research.google.com/assets/colab-badge.svg\" alt=\"Open In Colab\"/></a>"
      ]
    },
    {
      "cell_type": "markdown",
      "source": [
        "## 1.1 자료구조와 추상 데이터 타입"
      ],
      "metadata": {
        "id": "x3f87DPAhDd5"
      }
    },
    {
      "cell_type": "markdown",
      "source": [
        "자료구조(Data structure) : 일련의 동일한 타입의 데이터를 정돈하여 저장한 구성체\n",
        "\n",
        "추상 데이터 타입(Abstract Data Type, ADT) : 데이터와 그 데이터에 대한 추상적인 연산들로써 구성, 연산을 구체적으로 어떻게 구현하여야 한다는 세부 명세를 포함하지 않음.\n",
        "\n",
        "            ADT                                     Data structure\n",
        "    [데이터] + [관련 연산]     --[구현]-->     [데이터] + [구체화된 관련 연산]\n",
        "\n",
        "건축을 예로 들면, ADT는 건축설계 도면, 자료구조는 도면을 사용하여 건축한 건물에 해당\n",
        "\n",
        "자주 사용되는 자료구조에는 리스트, 연결 리스트, 스택, 큐, 트리, 해시 테이블, 그래프 등이 있음.\n",
        "\n",
        "데이터와 관련된 연산의 관계를 개념적으로 정립하는 ADT에 기반하여 효율적인 자료구조를 만들어야 효율적인 알고리즘의 설계가 가능.\n",
        "\n",
        "대부분의 자료구조들은 탐색, 삽입, 삭제 연산을 기본적인 연산으로 지원하며, 자료구조에 따라 추가적인 보조 연산들이 제공됨."
      ],
      "metadata": {
        "id": "uLCf-rvKhR-y"
      }
    },
    {
      "cell_type": "markdown",
      "source": [
        "## 1.2 수행 시간의 분석"
      ],
      "metadata": {
        "id": "Q1gp2NCMkJm6"
      }
    },
    {
      "cell_type": "markdown",
      "source": [
        "시간 복잡도(Time Complexity) : 알고리즘의 수행 시간<br>\n",
        "공간 복잡도(Space Complexity) : 알고리즘이 수행되는 동안 사용되는 메모리 공간의 크기<br>\n",
        "대부분의 경우 시간 복잡도를 사용하여 알고리즘의 성능을 분석.\n",
        "\n",
        "프로그래머의 숙련도, 알고리즘에 사용된 언어, 하드웨어 성능 등의 이유로 인해 실제 측정된 시간으로 알고리즘의 성능을 객관적으로 판단하는 데에는 어려움이 있음.\n",
        "<br>-> 알고리즘의 시간 복잡도는 알고리즘이 실행되는 동안에 사용된 기본적인 연산 횟수를 입력 크기의 함수로 나타냄.\n",
        "\n",
        "기본 연산(Elementary Operation) : 데이터간 크기 비교, 데이터 읽기 및 갱신, 숫자 계산 등의 단순한 연산\n",
        "\n",
        "알고리즘의 수행 시간(Run Time)\n",
        " - 최악 경우 분석(Worst-case Analysis) : 상한(Upper Bound) -> 수행 시간이 얼마 이상은 넘지 않음\n",
        " - 평균 경우 분석(Average-case Analysis) : 균등 분포(Uniform Distribution) -> 입력의 확률 분포를 가정하여 분석\n",
        " - 최선 경우 분석(Best-case Analysis) : 최적(Optimal) -> 가장 빠른 수행 시간 분석\n"
      ],
      "metadata": {
        "id": "G_jwLLXVkMpI"
      }
    },
    {
      "cell_type": "markdown",
      "source": [
        "## 1.3 수행 시간의 점근 표기법"
      ],
      "metadata": {
        "id": "iON1TGy68iVX"
      }
    },
    {
      "cell_type": "markdown",
      "source": [
        "수행 시간(Run Time) : 알고리즘이 수행하는 기본 연산 횟수를 입력 크기에 대한 함수로 표현\n",
        "<br>주로 여러 개의 항을 가지는 다항식으로 표현 -> 입력의 크기에 대한 함수로 표현하기 위해 점근 표기법(Asymptotic Notation) 사용\n",
        "\n",
        "대표적인 점근 표기법\n",
        "<br> - O(Big-Oh)-표기 : 모든 n ≥ n0에 대해서 f(n) ≤ cg(n)이 성립하는 양의 상수 c와 n0이 존재하면, f(n) = O(g(n))\n",
        "<br> - Ω(Big-Omega)-표기 : 모든 n ≥ n0에 대해서 f(n) ≥ cg(n)이 성립하는 양의 상수 c와 n0이 존재하면, f(n) = Ω(g(n))\n",
        "<br> - Θ(Theta)-표기 : 모든 n ≥ n0에 대해서 c1g(n) ≥ f(n) ≥ c2g(n)이 성립하는 양의 상수 c1, c2, n0이 존재하면, f(n) = Θ(g(n))\n",
        "\n",
        "**O-표기**\n",
        "\n",
        "n0와 같거나 큰 모든 n에 대해서 f(n)이 cg(n)보다 크지 않음 -> g(n) : f(n)의 상한(Upper Bound)<br>\n",
        "정의를 만족하는 가장 차수가 낮은 함수를 선택하는 것이 원칙 -> 과장된 표현을 피하기 위함\n",
        "<br>주어진 수행 시간의 다항식에 대해 O-표기를 찾기 위해 직접 양의 상수 c와 n0을 계산해서 g(n)을 찾는 것보다 다항식에서 최고 차수 항만을 취한 뒤, 그 항의 계수를 제거하여 g(n)을 정할 수 있음.\n",
        "<br>ex) 2n² + 3n + 5에서 최고 차수 항은 2n²이고, 계수인 2를 제거한 n²가 g(n)이므로 수행 시간은 O(n²)\n",
        "\n",
        "**Ω-표기**\n",
        "\n",
        "n0보다 큰 모든 n에 대해서 f(n)이 cg(n)보다 작지 않음 -> g(n) : f(n)의 하한(Under Bound)<br>\n",
        "주어진 수행 시간의 다항식에 대해 Ω-표기를 찾는 방법은 O-표기를 찾을 때와 같이 다항식에서 최고 차항만을 취하고 그 항의 계수를 제거하여 g(n)을 찾음.\n",
        "<br>ex) 2n² + 3n + 5에서 최고 차항은 2n²이고, 계수인 2를 제거한 n²가 g(n)이므로 수행 시간은 Ω(n²)\n",
        "\n",
        "**Θ-표기**\n",
        "\n",
        "수행 시간의 O-표기와 Ω-표기가 동일한 경우에 사용.\n",
        "<br>2n² + 3n + 5 -> O(n²), Ω(n²)이므로 Θ(n²)\n",
        "<br>Θ(n²)은 n²과 2n² + 3n + 5가 유사한 증가율을 가지고 있다는 뜻\n",
        "\n",
        "*알고리즘의 수행 시간은 주로 O-표기를 사용하며, 보다 정확히 표현하기 위해 Θ-표기를 사용하는 경우도 있음*\n",
        "\n",
        "**<컴퓨터 분야에서 수행 시간을 위해 자주 사용되는 함수의 O-표기와 이름>**\n",
        "\n",
        "O(1) - 상수 시간(Constant Time)\n",
        "<br>O(logn) - 로그(대수) 시간(Logarithmic Time)\n",
        "<br>O(n) - 선형 시간(Linear Time)\n",
        "<br>O(nlogn) - 로그 선형 시간(Log-linear Time)\n",
        "<br>O(n²) - 이차 시간(Quadratic Time)\n",
        "<br>O(n³) - 3차 시간(Cubic Time)\n",
        "<br>O(2ⁿ) - 지수 시간(Exponential Time)\n"
      ],
      "metadata": {
        "id": "GEtIyUOg8ljz"
      }
    },
    {
      "cell_type": "markdown",
      "source": [
        "## 1.4 파이썬 언어에 대한 기본 지식"
      ],
      "metadata": {
        "id": "eCwwp9Q3IXks"
      }
    },
    {
      "cell_type": "markdown",
      "source": [
        "**파이썬(Python) : 객체지향 프로그래밍 언어**<br>\n",
        " - 클래스(Class) : 선언되어 객체에 데이터를 저장\n",
        " - 메소드(Method) : 선언되어 객체들에 대한 연산을 구현\n",
        "\n",
        "**클래스의 구조**\n",
        " - 인스턴스 변수(Instance Variable) : 객체에 정보를 저장\n",
        " - 객체 생성자(Constructor) : 객체를 생성\n",
        " - 메소드(Method) : 객체 혹은 객체 내부 인스턴스 변수에 대한 연산을 수행"
      ],
      "metadata": {
        "id": "ByExjw8rIbEU"
      }
    },
    {
      "cell_type": "code",
      "source": [
        "class Student:\n",
        "    def __init__(self, name, id):\n",
        "        self.name = name\n",
        "        self.id = id\n",
        "    def get_name(self):\n",
        "        return self.name\n",
        "    def get_id(self):\n",
        "        return self.id\n",
        "\n",
        "best = Student('Lee', 101)\n",
        "print(best.get_name())\n",
        "print(best.get_id())"
      ],
      "metadata": {
        "colab": {
          "base_uri": "https://localhost:8080/"
        },
        "id": "LmBVNBWHq_x5",
        "outputId": "06bd80dc-aa75-4e60-d6dd-a55b695eeeb7"
      },
      "execution_count": null,
      "outputs": [
        {
          "output_type": "stream",
          "name": "stdout",
          "text": [
            "Lee\n",
            "101\n"
          ]
        }
      ]
    },
    {
      "cell_type": "markdown",
      "source": [
        "메소드의 첫 번째 인자로 'self' 사용, 인스턴스 변수 앞에 'self' 사용\n",
        "<br>-> 클래스의 생성자로 만들어진 객체의 이름을 self가 있는 자리에 대체시키기 위함.\n",
        "\n",
        "best.get_name() 은 def get_name(best)를 수행하여 'Lee'를 출력, best.get_id()는 def get_id(best)를 수행하여 101을 출력"
      ],
      "metadata": {
        "id": "TzazXsVJKyM4"
      }
    },
    {
      "cell_type": "markdown",
      "source": [
        "리스트(List)"
      ],
      "metadata": {
        "id": "kvE94V_BMhSf"
      }
    },
    {
      "cell_type": "code",
      "source": [
        "a = []\n",
        "b = [None] * 10\n",
        "c = [40, 10, 70, 60]\n",
        "print(c[0])\n",
        "print(c[-1])\n",
        "c.pop()\n",
        "c.pop(0)\n",
        "c.append(90)\n",
        "print(len(c))"
      ],
      "metadata": {
        "colab": {
          "base_uri": "https://localhost:8080/"
        },
        "id": "8rtZaHeWweYv",
        "outputId": "3e32a56e-32ca-45e1-d09e-c356c772bcf0"
      },
      "execution_count": null,
      "outputs": [
        {
          "output_type": "stream",
          "name": "stdout",
          "text": [
            "40\n",
            "60\n",
            "3\n"
          ]
        }
      ]
    },
    {
      "cell_type": "code",
      "source": [
        "import random\n",
        "import time\n",
        "\n",
        "random.seed(time.time())\n",
        "a = []\n",
        "for i in range(100):\n",
        "    a.append(random.randint(1,1000))\n",
        "\n",
        "start_time = time.time()\n",
        "\n",
        "print(\"--- %s seconds ---\" % (time.time() - start_time))"
      ],
      "metadata": {
        "colab": {
          "base_uri": "https://localhost:8080/"
        },
        "id": "mvQUvBKvxgAe",
        "outputId": "c2d8c452-bbd5-44f8-d682-6a0e6d1b41ea"
      },
      "execution_count": null,
      "outputs": [
        {
          "output_type": "stream",
          "name": "stdout",
          "text": [
            "--- 6.151199340820312e-05 seconds ---\n"
          ]
        }
      ]
    },
    {
      "cell_type": "code",
      "source": [
        "a = [1, 5, 4, 6, 8, 11, 3, 12]\n",
        "even = list(filter(lambda x:(x%2 == 0), a))\n",
        "print(even)\n",
        "ten_times = list(map(lambda x:x*10, a))\n",
        "print(ten_times)\n",
        "\n",
        "b = [[0, 1, 8],[7, 2, 2],[5, 3, 10],[1, 4, 5]]\n",
        "b.sort(key = lambda x:x[2])\n",
        "print(b)"
      ],
      "metadata": {
        "colab": {
          "base_uri": "https://localhost:8080/"
        },
        "id": "55Jh_NGdx1nx",
        "outputId": "1b5b359f-490c-4fc3-9c83-5a37f9a851bb"
      },
      "execution_count": null,
      "outputs": [
        {
          "output_type": "stream",
          "name": "stdout",
          "text": [
            "[4, 6, 8, 12]\n",
            "[10, 50, 40, 60, 80, 110, 30, 120]\n",
            "[[7, 2, 2], [1, 4, 5], [0, 1, 8], [5, 3, 10]]\n"
          ]
        }
      ]
    },
    {
      "cell_type": "code",
      "source": [
        "# def recurse():\n",
        "#     print(' *')\n",
        "#     recurse()\n",
        "\n",
        "# recurse()\n",
        "\n",
        "def recurse(count):\n",
        "    if count <= 0:\n",
        "        print('.')\n",
        "    else:\n",
        "        print(count, ' *')\n",
        "        recurse(count-1)\n",
        "\n",
        "recurse(5)"
      ],
      "metadata": {
        "colab": {
          "base_uri": "https://localhost:8080/"
        },
        "id": "lFwkTjTMyodO",
        "outputId": "785db87a-6ffe-4ebd-bc78-f112ddba13f3"
      },
      "execution_count": null,
      "outputs": [
        {
          "output_type": "stream",
          "name": "stdout",
          "text": [
            "5  *\n",
            "4  *\n",
            "3  *\n",
            "2  *\n",
            "1  *\n",
            ".\n"
          ]
        }
      ]
    },
    {
      "cell_type": "code",
      "source": [
        "def factorial(n):\n",
        "    if n <= 1:\n",
        "        return 1\n",
        "    else:\n",
        "        return n*factorial(n-1)\n",
        "\n",
        "factorial(4)"
      ],
      "metadata": {
        "colab": {
          "base_uri": "https://localhost:8080/"
        },
        "id": "Y0PBG8RmzK5i",
        "outputId": "e82bb0cd-2d90-4a2c-8769-ea82aa286e6a"
      },
      "execution_count": null,
      "outputs": [
        {
          "output_type": "execute_result",
          "data": {
            "text/plain": [
              "24"
            ]
          },
          "metadata": {},
          "execution_count": 16
        }
      ]
    },
    {
      "cell_type": "code",
      "source": [
        "factorial = 1\n",
        "for i in range(1,5):\n",
        "    factorial *= i\n",
        "\n",
        "print(factorial)"
      ],
      "metadata": {
        "colab": {
          "base_uri": "https://localhost:8080/"
        },
        "id": "a1KOWgvWz1Tu",
        "outputId": "d2288607-48f1-4dd7-a2f5-7e1714eedfdd"
      },
      "execution_count": null,
      "outputs": [
        {
          "output_type": "stream",
          "name": "stdout",
          "text": [
            "24\n"
          ]
        }
      ]
    },
    {
      "cell_type": "code",
      "source": [
        "class Node:\n",
        "    def __init__(self, name, left=None, right=None):\n",
        "        self.name = name\n",
        "        self.left = left\n",
        "        self.right = right\n",
        "\n",
        "def map():\n",
        "    n1 = Node('H')\n",
        "    n2 = Node('F')\n",
        "    n3 = Node('S')\n",
        "    n4 = Node('U')\n",
        "    n5 = Node('E')\n",
        "    n6 = Node('Z')\n",
        "    n7 = Node('K')\n",
        "    n8 = Node('N')\n",
        "    n9 = Node('A')\n",
        "    n10 = Node('Y')\n",
        "    n11 = Node('T')\n",
        "\n",
        "    n1.left = n2\n",
        "    n1.right = n3\n",
        "    n2.left = n4\n",
        "    n2.right = n5\n",
        "    n3.left = n6\n",
        "    n3.right = n7\n",
        "    n4.left = n8\n",
        "    n5.left = n9\n",
        "    n7.right = n10\n",
        "    n10.right = n11\n",
        "    return n1\n",
        "\n",
        "def A_course(n):\n",
        "    if n != None:\n",
        "        print(n.name, '->', end=' ')\n",
        "        A_course(n.left)\n",
        "        A_course(n.right)\n",
        "\n",
        "def B_course(n):\n",
        "    if n != None:\n",
        "        B_course(n.left)\n",
        "        print(n.name, '->', end=' ')\n",
        "        B_course(n.right)\n",
        "\n",
        "def C_course(n):\n",
        "    if n != None:\n",
        "        C_course(n.left)\n",
        "        C_course(n.right)\n",
        "        print(n.name, '->', end=' ')\n",
        "\n",
        "start = map()\n",
        "print('A-코스:\\t', end='')\n",
        "A_course(start)\n",
        "print('\\nB-코스:\\t', end='')\n",
        "B_course(start)\n",
        "print('\\nC-코스:\\t', end='')\n",
        "C_course(start)"
      ],
      "metadata": {
        "colab": {
          "base_uri": "https://localhost:8080/"
        },
        "id": "Dv203d3t0Kd_",
        "outputId": "58006f3d-eb72-4707-c8d0-0af50f150755"
      },
      "execution_count": null,
      "outputs": [
        {
          "output_type": "stream",
          "name": "stdout",
          "text": [
            "A-코스:\tH -> F -> U -> N -> E -> A -> S -> Z -> K -> Y -> T -> \n",
            "B-코스:\tN -> U -> F -> A -> E -> H -> Z -> S -> K -> Y -> T -> \n",
            "C-코스:\tN -> U -> A -> E -> F -> Z -> T -> Y -> K -> S -> H -> "
          ]
        }
      ]
    },
    {
      "cell_type": "markdown",
      "source": [
        "## Part1.practice"
      ],
      "metadata": {
        "id": "khIParDh4F2Y"
      }
    },
    {
      "cell_type": "code",
      "source": [],
      "metadata": {
        "id": "i_UJyb-E2tHZ"
      },
      "execution_count": null,
      "outputs": []
    }
  ]
}